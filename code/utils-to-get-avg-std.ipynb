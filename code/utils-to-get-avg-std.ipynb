{
 "cells": [
  {
   "attachments": {},
   "cell_type": "markdown",
   "metadata": {},
   "source": [
    "# Merge evaluations and obtain averaged results"
   ]
  },
  {
   "cell_type": "code",
   "execution_count": 1,
   "metadata": {},
   "outputs": [],
   "source": [
    "import pandas as pd\n",
    "import numpy as np\n",
    "import statsmodels.api as sm\n",
    "import scipy.stats as st\n",
    "import matplotlib.pyplot as plt\n",
    "import matplotlib.mlab as mlab\n",
    "import seaborn as sns\n",
    "import openpyxl\n",
    "%matplotlib inline\n",
    "import os\n",
    "\n",
    "from warnings import filterwarnings\n",
    "filterwarnings('ignore')"
   ]
  },
  {
   "attachments": {},
   "cell_type": "markdown",
   "metadata": {},
   "source": [
    "### 5 random state için sonuçların ortalamasını al ve yeni dosyaya bas"
   ]
  },
  {
   "cell_type": "code",
   "execution_count": 3,
   "metadata": {},
   "outputs": [],
   "source": [
    "evaluation_dir = \"./evaluation/\"\n",
    "output_file = \"./results_averaged_std.xlsx\"\n",
    "\n",
    "# all dataset names\n",
    "datasets = ['evaluation']\n",
    "\n",
    "\n",
    "# rest of the code\n",
    " \n",
    "with pd.ExcelWriter(output_file, engine='openpyxl') as writer:\n",
    "    for data in datasets:\n",
    "        # Read and concatenate Excel files\n",
    "        dfs = []\n",
    "        states = [1, 42, 123, 1234, 12345]\n",
    "        for idx in states:\n",
    "            filename = '{}_RS{}.xlsx'.format(data, idx)\n",
    "            df = pd.read_excel(evaluation_dir + filename)\n",
    "            dfs.append(df)\n",
    "\n",
    "        # Concatenate all files\n",
    "        merged_df = pd.concat(dfs, axis=0)\n",
    "\n",
    "        # Calculate mean values\n",
    "        averages = merged_df.groupby('Models').mean()\n",
    "        averages = averages.drop(['Unnamed: 0'], axis=1)\n",
    "\n",
    "        # Calculate standard deviation values\n",
    "        std_devs = merged_df.groupby('Models').std()\n",
    "        std_devs = std_devs.drop(['Unnamed: 0'], axis=1)\n",
    "\n",
    "        # Combine averages and std_devs into one DataFrame and format the result\n",
    "        result = averages.copy()\n",
    "        for column in averages.columns:\n",
    "            result[column] = (averages[column] * 100).map(\"{:.2f}\".format) + \" ± \" + (std_devs[column] * 100).map(\"{:.2f}\".format)\n",
    "\n",
    "        \n",
    "\n",
    "        # Write the result to the Excel file\n",
    "        result.to_excel(writer, sheet_name=data)\n",
    "\n",
    "        # Access worksheet and adjust formatting\n",
    "        workbook = writer.book\n",
    "        worksheet = writer.sheets[data]\n",
    "        for col in worksheet.columns:\n",
    "            max_length = 0\n",
    "            column = col[0].column_letter\n",
    "            for cell in col:\n",
    "                try:\n",
    "                    if len(str(cell.value)) > max_length:\n",
    "                        max_length = len(str(cell.value))\n",
    "                except:\n",
    "                    pass\n",
    "            adjusted_width = (max_length + 2) * 1.2\n",
    "            worksheet.column_dimensions[column].width = adjusted_width\n",
    "            for cell in col:\n",
    "                cell.alignment = openpyxl.styles.Alignment(horizontal='center', vertical='center', wrap_text=True)"
   ]
  },
  {
   "cell_type": "code",
   "execution_count": null,
   "metadata": {},
   "outputs": [],
   "source": []
  }
 ],
 "metadata": {
  "kernelspec": {
   "display_name": "base",
   "language": "python",
   "name": "python3"
  },
  "language_info": {
   "codemirror_mode": {
    "name": "ipython",
    "version": 3
   },
   "file_extension": ".py",
   "mimetype": "text/x-python",
   "name": "python",
   "nbconvert_exporter": "python",
   "pygments_lexer": "ipython3",
   "version": "3.9.13"
  },
  "orig_nbformat": 4
 },
 "nbformat": 4,
 "nbformat_minor": 2
}
